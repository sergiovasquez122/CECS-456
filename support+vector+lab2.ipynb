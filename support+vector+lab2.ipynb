{
 "cells": [
  {
   "cell_type": "code",
   "execution_count": 6,
   "metadata": {
    "collapsed": true
   },
   "outputs": [],
   "source": [
    "import matplotlib.pyplot as plt\n",
    "import numpy as np\n",
    "%matplotlib inline"
   ]
  },
  {
   "cell_type": "code",
   "execution_count": 7,
   "metadata": {
    "collapsed": true
   },
   "outputs": [],
   "source": [
    "X = np.matrix(((0, 0), (4, 4)))\n",
    "y = np.matrix((1, -1)).T\n",
    "y_values = np.array([1, -1])"
   ]
  },
  {
   "cell_type": "code",
   "execution_count": 8,
   "metadata": {},
   "outputs": [
    {
     "data": {
      "text/plain": [
       "array([-1,  1])"
      ]
     },
     "execution_count": 8,
     "metadata": {},
     "output_type": "execute_result"
    }
   ],
   "source": [
    "np.unique(y_values)"
   ]
  },
  {
   "cell_type": "code",
   "execution_count": 25,
   "metadata": {},
   "outputs": [],
   "source": [
    "def plot_function(f, x_min, x_max, **kwargs):\n",
    "    x_values = np.linspace(x_min, x_max, 1000)\n",
    "    y_values = [f(xi) for xi in x_values]\n",
    "    plt.plot(x_values, y_values, **kwargs)"
   ]
  },
  {
   "cell_type": "code",
   "execution_count": 36,
   "metadata": {},
   "outputs": [
    {
     "data": {
      "image/png": "[encoded data removed]",
      "text/plain": [
       "<Figure size 432x288 with 1 Axes>"
      ]
     },
     "metadata": {},
     "output_type": "display_data"
    }
   ],
   "source": [
    "colors = ('red', 'blue')\n",
    "markers = ('+', 'o')\n",
    "for idx, c in enumerate(np.unique(y_values)):\n",
    "    plt.scatter([X[y_values == c, 0]], [X[y_values == c, 1]], color = colors[idx], marker = markers[idx]\n",
    "               ,label = c)\n",
    "    plt.legend(loc = 'upper left')\n",
    "    plot_function(lambda x : -x, -1, 1, color = 'blue', linestyle = 'dotted')\n",
    "    plot_function(lambda x : -x + 8, 3, 5, color = 'red', linestyle = 'dotted')\n",
    "    plot_function(lambda x : -x + 4, -1, 5, color = 'black')"
   ]
  },
  {
   "cell_type": "code",
   "execution_count": null,
   "metadata": {
    "collapsed": true
   },
   "outputs": [],
   "source": []
  }
 ],
 "metadata": {
  "kernelspec": {
   "display_name": "Python 3",
   "language": "python",
   "name": "python3"
  },
  "language_info": {
   "codemirror_mode": {
    "name": "ipython",
    "version": 3
   },
   "file_extension": ".py",
   "mimetype": "text/x-python",
   "name": "python",
   "nbconvert_exporter": "python",
   "pygments_lexer": "ipython3",
   "version": "3.6.9"
  }
 },
 "nbformat": 4,
 "nbformat_minor": 2
}
