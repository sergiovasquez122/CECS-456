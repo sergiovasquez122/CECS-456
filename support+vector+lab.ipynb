{
 "cells": [
  {
   "cell_type": "code",
   "execution_count": 53,
   "metadata": {},
   "outputs": [],
   "source": [
    "import numpy as np\n",
    "import matplotlib.pyplot as plt\n",
    "%matplotlib inline\n",
    "X = np.matrix(((0, 0), (0, -1), (-2, 0)))\n",
    "y = np.matrix(((-1, -1, 1))).T\n",
    "y_value = [-1, -1, 1]"
   ]
  },
  {
   "cell_type": "code",
   "execution_count": 54,
   "metadata": {},
   "outputs": [
    {
     "data": {
      "text/plain": [
       "array([-1,  1])"
      ]
     },
     "execution_count": 54,
     "metadata": {},
     "output_type": "execute_result"
    }
   ],
   "source": [
    "np.unique(y_value)"
   ]
  },
  {
   "cell_type": "code",
   "execution_count": 67,
   "metadata": {
    "collapsed": true
   },
   "outputs": [],
   "source": [
    "def f(x):\n",
    "    return -1"
   ]
  },
  {
   "cell_type": "code",
   "execution_count": 88,
   "metadata": {},
   "outputs": [
    {
     "data": {
      "image/png": "[encoded data removed]",
      "text/plain": [
       "<Figure size 432x288 with 1 Axes>"
      ]
     },
     "metadata": {},
     "output_type": "display_data"
    }
   ],
   "source": [
    "markers = ('x', 'o')\n",
    "colors = ('red', 'blue')\n",
    "for idx, c in enumerate(np.unique(y_value)):\n",
    "    plt.scatter([X[c == y_value, 0]], [X[c == y_value, 1]], marker = markers[idx], color = colors[idx],\n",
    "               label = c)\n",
    "    x_values = np.linspace(-2, 1, num = 1000)\n",
    "    y_values = [f(xi) for xi in x_values]\n",
    "    y_values2 = [-2 for xi in x_values]\n",
    "    y_values3 = [0 for xi in x_values]\n",
    "    plt.plot(y_values, x_values, color = 'black')\n",
    "    plt.plot(y_values2, x_values, color = 'blue', linestyle = 'dotted')\n",
    "    plt.plot(y_values3, x_values, color = 'red', linestyle = 'dotted')\n",
    "    plt.xlabel('$x_1$', fontsize = 12)\n",
    "    plt.ylabel('$x_2$', fontsize = 12,rotation = 0)\n",
    "    plt.legend(loc = 'upper left')"
   ]
  },
  {
   "cell_type": "code",
   "execution_count": null,
   "metadata": {
    "collapsed": true
   },
   "outputs": [],
   "source": []
  }
 ],
 "metadata": {
  "kernelspec": {
   "display_name": "Python 3",
   "language": "python",
   "name": "python3"
  },
  "language_info": {
   "codemirror_mode": {
    "name": "ipython",
    "version": 3
   },
   "file_extension": ".py",
   "mimetype": "text/x-python",
   "name": "python",
   "nbconvert_exporter": "python",
   "pygments_lexer": "ipython3",
   "version": "3.6.9"
  }
 },
 "nbformat": 4,
 "nbformat_minor": 2
}
